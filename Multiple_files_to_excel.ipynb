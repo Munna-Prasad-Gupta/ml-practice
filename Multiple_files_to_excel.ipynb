{
 "cells": [
  {
   "cell_type": "code",
   "execution_count": 2,
   "id": "33c59daa-895d-42a9-9da3-5598f53b29d4",
   "metadata": {},
   "outputs": [],
   "source": [
    "import os\n",
    "import pandas as pd\n",
    "\n",
    "def extract_sent_from_files(folder_path):\n",
    "    sentences = []\n",
    "\n",
    "    for filename in os.listdir(folder_path):\n",
    "        file_path = os.path.join(folder_path, filename)\n",
    "        if os.path.isfile(file_path):\n",
    "            with open(file_path, 'r', encoding='utf-8') as file:\n",
    "                for line in file:\n",
    "                    sentences.append(line.strip())\n",
    "\n",
    "    df = pd.DataFrame(sentences, columns=['sentence'])\n",
    "    df.to_excel('sentence.xlsx', index=False)\n",
    "\n",
    "# Define folder path\n",
    "folder_path = 'Hindi-Aesthetics-Corpus/Corpus'\n",
    "extract_sent_from_files(folder_path)\n",
    "\n"
   ]
  }
 ],
 "metadata": {
  "kernelspec": {
   "display_name": "Python 3 (ipykernel)",
   "language": "python",
   "name": "python3"
  },
  "language_info": {
   "codemirror_mode": {
    "name": "ipython",
    "version": 3
   },
   "file_extension": ".py",
   "mimetype": "text/x-python",
   "name": "python",
   "nbconvert_exporter": "python",
   "pygments_lexer": "ipython3",
   "version": "3.12.4"
  }
 },
 "nbformat": 4,
 "nbformat_minor": 5
}
